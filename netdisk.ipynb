{
 "cells": [
  {
   "cell_type": "code",
   "execution_count": 12,
   "metadata": {},
   "outputs": [
    {
     "data": {
      "text/plain": [
       "'BIDUPSID=0CFD0E33BA72B599173C3C51ECA9FB03; PSTM=1634010172; BAIDUID=0CFD0E33BA72B599AB571D036D79B5FD:FG=1; BDORZ=FFFB88E999055A3F8A630C64834BD6D0; H_PS_PSSID=31253_26350; __yjs_duid=1_e1f5a9e1079f345f487d014b430ff1c81634019044941; BDUSS=RKM294ZjNSbWFDWTkybTc4aE9hd0l4QlI5OVJGM2Z5WVNLcGZ3bHJTWDF-b3hoSVFBQUFBJCQAAAAAAAAAAAEAAACXuzI5yOe5-87Sy7Wyu7DV0N0AAAAAAAAAAAAAAAAAAAAAAAAAAAAAAAAAAAAAAAAAAAAAAAAAAAAAAAAAAAAAAAAAAPVxZWH1cWVhS0; BDUSS_BFESS=RKM294ZjNSbWFDWTkybTc4aE9hd0l4QlI5OVJGM2Z5WVNLcGZ3bHJTWDF-b3hoSVFBQUFBJCQAAAAAAAAAAAEAAACXuzI5yOe5-87Sy7Wyu7DV0N0AAAAAAAAAAAAAAAAAAAAAAAAAAAAAAAAAAAAAAAAAAAAAAAAAAAAAAAAAAAAAAAAAAPVxZWH1cWVhS0; ab_sr=1.0.1_MjA4MDlhOTE3MzZlOTc2OTcxYTNhOGI5ZTc4MTgzZmRlY2NlM2VjNTliZDgwMjM1MDM3ODY4NTk2ZDJjZmE0ZDQ4ZmZjMjFhODM1ZmJiZWI5NWQwYjk1MWEwOTEyNWVjNWM2YzEyNmJiOWNmYTU0ODQ4ODFiY2NhOTZiOTllMTY2NWQ0YzFlNTZjZWU2ZjcwNDk0Y2NhZmEwZmJlMTVlOA==; delPer=0; BAIDUID_BFESS=0CFD0E33BA72B599AB571D036D79B5FD:FG=1; csrfToken=BLhI750rISFy3xoi-RHj2zU1; STOKEN=cf665c926dbaf722b85a00d0d511f881c057449e1dc7dbb92640daa83a89a1f5; Hm_lvt_7a3960b6f067eb0085b7f96ff5e660b0=1634040665; BDRCVFR[VXHUG3ZuJnT]=mk3SLVN4HKm; PANPSC=12209539300392536932:DJI9ZdfpjgJ6GTCuUVWNwEy7txDAjOFZiqjjq7qWi8pa+zVsu1hu371iJS3G2jGbk2nt9sDNbJvy8D+Wwy+1YCO+EbNjkMM0OA6+HHtciFfHSTuafFA3EtUlWIY0tSpoUOuF9bNVtOXvuopL0N3EtxTpKkbQG71OovmNV+7na/RtoLnfYC42LUaIG3quAP1SJlOfPZFHq37Yo1rfcTTVA3z1V6DkjvELO6gB4KX1MEY=; PSINO=5; BA_HECTOR=2hala18021ag2l0l0v1gmb0qv0q; Hm_lpvt_7a3960b6f067eb0085b7f96ff5e660b0=1634042746'"
      ]
     },
     "execution_count": 12,
     "metadata": {},
     "output_type": "execute_result"
    }
   ],
   "source": [
    "cookie =\"BIDUPSID=0CFD0E33BA72B599173C3C51ECA9FB03; PSTM=1634010172; BAIDUID=0CFD0E33BA72B599AB571D036D79B5FD:FG=1; BDORZ=FFFB88E999055A3F8A630C64834BD6D0; H_PS_PSSID=31253_26350; __yjs_duid=1_e1f5a9e1079f345f487d014b430ff1c81634019044941; BDUSS=RKM294ZjNSbWFDWTkybTc4aE9hd0l4QlI5OVJGM2Z5WVNLcGZ3bHJTWDF-b3hoSVFBQUFBJCQAAAAAAAAAAAEAAACXuzI5yOe5-87Sy7Wyu7DV0N0AAAAAAAAAAAAAAAAAAAAAAAAAAAAAAAAAAAAAAAAAAAAAAAAAAAAAAAAAAAAAAAAAAPVxZWH1cWVhS0; BDUSS_BFESS=RKM294ZjNSbWFDWTkybTc4aE9hd0l4QlI5OVJGM2Z5WVNLcGZ3bHJTWDF-b3hoSVFBQUFBJCQAAAAAAAAAAAEAAACXuzI5yOe5-87Sy7Wyu7DV0N0AAAAAAAAAAAAAAAAAAAAAAAAAAAAAAAAAAAAAAAAAAAAAAAAAAAAAAAAAAAAAAAAAAPVxZWH1cWVhS0; ab_sr=1.0.1_MjA4MDlhOTE3MzZlOTc2OTcxYTNhOGI5ZTc4MTgzZmRlY2NlM2VjNTliZDgwMjM1MDM3ODY4NTk2ZDJjZmE0ZDQ4ZmZjMjFhODM1ZmJiZWI5NWQwYjk1MWEwOTEyNWVjNWM2YzEyNmJiOWNmYTU0ODQ4ODFiY2NhOTZiOTllMTY2NWQ0YzFlNTZjZWU2ZjcwNDk0Y2NhZmEwZmJlMTVlOA==; delPer=0; BAIDUID_BFESS=0CFD0E33BA72B599AB571D036D79B5FD:FG=1; csrfToken=BLhI750rISFy3xoi-RHj2zU1; STOKEN=cf665c926dbaf722b85a00d0d511f881c057449e1dc7dbb92640daa83a89a1f5; Hm_lvt_7a3960b6f067eb0085b7f96ff5e660b0=1634040665; BDRCVFR[VXHUG3ZuJnT]=mk3SLVN4HKm; PANPSC=12209539300392536932:DJI9ZdfpjgJ6GTCuUVWNwEy7txDAjOFZiqjjq7qWi8pa+zVsu1hu371iJS3G2jGbk2nt9sDNbJvy8D+Wwy+1YCO+EbNjkMM0OA6+HHtciFfHSTuafFA3EtUlWIY0tSpoUOuF9bNVtOXvuopL0N3EtxTpKkbQG71OovmNV+7na/RtoLnfYC42LUaIG3quAP1SJlOfPZFHq37Yo1rfcTTVA3z1V6DkjvELO6gB4KX1MEY=; PSINO=5; BA_HECTOR=2hala18021ag2l0l0v1gmb0qv0q; Hm_lpvt_7a3960b6f067eb0085b7f96ff5e660b0=1634042746\"\n",
    "cookie\n"
   ]
  },
  {
   "cell_type": "code",
   "execution_count": 13,
   "metadata": {},
   "outputs": [],
   "source": [
    "import re"
   ]
  },
  {
   "cell_type": "code",
   "execution_count": 14,
   "metadata": {},
   "outputs": [
    {
     "data": {
      "text/plain": [
       "'RKM294ZjNSbWFDWTkybTc4aE9hd0l4QlI5OVJGM2Z5WVNLcGZ3bHJTWDF-b3hoSVFBQUFBJCQAAAAAAAAAAAEAAACXuzI5yOe5-87Sy7Wyu7DV0N0AAAAAAAAAAAAAAAAAAAAAAAAAAAAAAAAAAAAAAAAAAAAAAAAAAAAAAAAAAAAAAAAAAPVxZWH1cWVhS0'"
      ]
     },
     "execution_count": 14,
     "metadata": {},
     "output_type": "execute_result"
    }
   ],
   "source": [
    "BDUSS = re.findall('BDUSS=(.*?);', cookie)[0]\n",
    "BDUSS"
   ]
  },
  {
   "cell_type": "code",
   "execution_count": 15,
   "metadata": {},
   "outputs": [],
   "source": [
    "from notedrive.baidu.drive import BaiDuDrive\n"
   ]
  },
  {
   "cell_type": "code",
   "execution_count": 16,
   "metadata": {},
   "outputs": [
    {
     "ename": "KeyError",
     "evalue": "'HOME'",
     "output_type": "error",
     "traceback": [
      "\u001b[1;31m---------------------------------------------------------------------------\u001b[0m",
      "\u001b[1;31mKeyError\u001b[0m                                  Traceback (most recent call last)",
      "\u001b[1;32m<ipython-input-16-65573e2d9d31>\u001b[0m in \u001b[0;36m<module>\u001b[1;34m\u001b[0m\n\u001b[1;32m----> 1\u001b[1;33m \u001b[0mclient\u001b[0m \u001b[1;33m=\u001b[0m \u001b[0mBaiDuDrive\u001b[0m\u001b[1;33m(\u001b[0m\u001b[0mbduss\u001b[0m\u001b[1;33m=\u001b[0m\u001b[0mBDUSS\u001b[0m\u001b[1;33m,\u001b[0m \u001b[0msave\u001b[0m\u001b[1;33m=\u001b[0m\u001b[1;32mFalse\u001b[0m\u001b[1;33m)\u001b[0m\u001b[1;33m\u001b[0m\u001b[1;33m\u001b[0m\u001b[0m\n\u001b[0m\u001b[0;32m      2\u001b[0m \u001b[0mclient\u001b[0m\u001b[1;33m\u001b[0m\u001b[1;33m\u001b[0m\u001b[0m\n",
      "\u001b[1;32mD:\\Code Languages\\Python3.7.5\\lib\\site-packages\\notedrive\\baidu\\drive.py\u001b[0m in \u001b[0;36m__init__\u001b[1;34m(self, bduss, session, timeout, access_token, save)\u001b[0m\n\u001b[0;32m    387\u001b[0m         \"\"\"\n\u001b[0;32m    388\u001b[0m         \u001b[1;33m:\u001b[0m\u001b[0mparam\u001b[0m \u001b[0mbduss\u001b[0m\u001b[1;33m:\u001b[0m \u001b[0mThe\u001b[0m \u001b[0mvalue\u001b[0m \u001b[0mof\u001b[0m \u001b[0mbaidu\u001b[0m \u001b[0mcookie\u001b[0m \u001b[0mkey\u001b[0m\u001b[0;31m \u001b[0m\u001b[0;31m`\u001b[0m\u001b[0mBDUSS\u001b[0m\u001b[0;31m`\u001b[0m\u001b[1;33m.\u001b[0m\u001b[1;33m\u001b[0m\u001b[1;33m\u001b[0m\u001b[0m\n\u001b[1;32m--> 389\u001b[1;33m         \"\"\"\n\u001b[0m\u001b[0;32m    390\u001b[0m         \u001b[0mself\u001b[0m\u001b[1;33m.\u001b[0m\u001b[0msecret\u001b[0m \u001b[1;33m=\u001b[0m \u001b[0mSecretManage\u001b[0m\u001b[1;33m(\u001b[0m\u001b[0mkey\u001b[0m\u001b[1;33m=\u001b[0m\u001b[1;34m'bduss'\u001b[0m\u001b[1;33m,\u001b[0m \u001b[0mvalue\u001b[0m\u001b[1;33m=\u001b[0m\u001b[0mbduss\u001b[0m\u001b[1;33m,\u001b[0m \u001b[0mpath\u001b[0m\u001b[1;33m=\u001b[0m\u001b[1;34m'baidu'\u001b[0m\u001b[1;33m,\u001b[0m \u001b[0msave\u001b[0m\u001b[1;33m=\u001b[0m\u001b[0msave\u001b[0m\u001b[1;33m)\u001b[0m\u001b[1;33m\u001b[0m\u001b[1;33m\u001b[0m\u001b[0m\n\u001b[0;32m    391\u001b[0m \u001b[1;33m\u001b[0m\u001b[0m\n",
      "\u001b[1;32mD:\\Code Languages\\Python3.7.5\\lib\\site-packages\\notedrive\\baidu\\drive.py\u001b[0m in \u001b[0;36m__init__\u001b[1;34m(self, key, value, path, secret_dir, save)\u001b[0m\n\u001b[0;32m    329\u001b[0m     \u001b[1;32mdef\u001b[0m \u001b[0m__init__\u001b[0m\u001b[1;33m(\u001b[0m\u001b[0mself\u001b[0m\u001b[1;33m,\u001b[0m \u001b[0mkey\u001b[0m\u001b[1;33m,\u001b[0m \u001b[0mvalue\u001b[0m\u001b[1;33m=\u001b[0m\u001b[1;32mNone\u001b[0m\u001b[1;33m,\u001b[0m \u001b[0mpath\u001b[0m\u001b[1;33m=\u001b[0m\u001b[1;34m'default'\u001b[0m\u001b[1;33m,\u001b[0m \u001b[0msecret_dir\u001b[0m\u001b[1;33m=\u001b[0m\u001b[1;34m'~/.secret'\u001b[0m\u001b[1;33m,\u001b[0m \u001b[0msave\u001b[0m\u001b[1;33m=\u001b[0m\u001b[1;32mTrue\u001b[0m\u001b[1;33m)\u001b[0m\u001b[1;33m:\u001b[0m\u001b[1;33m\u001b[0m\u001b[1;33m\u001b[0m\u001b[0m\n\u001b[0;32m    330\u001b[0m         \u001b[0mself\u001b[0m\u001b[1;33m.\u001b[0m\u001b[0mkey\u001b[0m \u001b[1;33m=\u001b[0m \u001b[0mkey\u001b[0m\u001b[1;33m\u001b[0m\u001b[1;33m\u001b[0m\u001b[0m\n\u001b[1;32m--> 331\u001b[1;33m         \u001b[1;31m# secret_dir = secret_dir.replace(\"~\", os.environ['HOME'])\u001b[0m\u001b[1;33m\u001b[0m\u001b[1;33m\u001b[0m\u001b[1;33m\u001b[0m\u001b[0m\n\u001b[0m\u001b[0;32m    332\u001b[0m         \u001b[0msecret_dir\u001b[0m \u001b[1;33m=\u001b[0m \u001b[0msecret_dir\u001b[0m\u001b[1;33m.\u001b[0m\u001b[0mreplace\u001b[0m\u001b[1;33m(\u001b[0m\u001b[1;34m\"~\"\u001b[0m\u001b[1;33m,\u001b[0m \u001b[0mos\u001b[0m\u001b[1;33m.\u001b[0m\u001b[0menviron\u001b[0m\u001b[1;33m[\u001b[0m\u001b[1;34m'HOMEPATH'\u001b[0m\u001b[1;33m]\u001b[0m\u001b[1;33m)\u001b[0m\u001b[1;33m\u001b[0m\u001b[1;33m\u001b[0m\u001b[0m\n\u001b[0;32m    333\u001b[0m         \u001b[0mself\u001b[0m\u001b[1;33m.\u001b[0m\u001b[0msecret_path\u001b[0m \u001b[1;33m=\u001b[0m \u001b[1;34m'{}/{}/.{}'\u001b[0m\u001b[1;33m.\u001b[0m\u001b[0mformat\u001b[0m\u001b[1;33m(\u001b[0m\u001b[0msecret_dir\u001b[0m\u001b[1;33m,\u001b[0m \u001b[0mpath\u001b[0m\u001b[1;33m,\u001b[0m \u001b[0mkey\u001b[0m\u001b[1;33m)\u001b[0m\u001b[1;33m\u001b[0m\u001b[1;33m\u001b[0m\u001b[0m\n",
      "\u001b[1;32mD:\\Code Languages\\Python3.7.5\\lib\\os.py\u001b[0m in \u001b[0;36m__getitem__\u001b[1;34m(self, key)\u001b[0m\n\u001b[0;32m    677\u001b[0m         \u001b[1;32mexcept\u001b[0m \u001b[0mKeyError\u001b[0m\u001b[1;33m:\u001b[0m\u001b[1;33m\u001b[0m\u001b[1;33m\u001b[0m\u001b[0m\n\u001b[0;32m    678\u001b[0m             \u001b[1;31m# raise KeyError with the original key value\u001b[0m\u001b[1;33m\u001b[0m\u001b[1;33m\u001b[0m\u001b[1;33m\u001b[0m\u001b[0m\n\u001b[1;32m--> 679\u001b[1;33m             \u001b[1;32mraise\u001b[0m \u001b[0mKeyError\u001b[0m\u001b[1;33m(\u001b[0m\u001b[0mkey\u001b[0m\u001b[1;33m)\u001b[0m \u001b[1;32mfrom\u001b[0m \u001b[1;32mNone\u001b[0m\u001b[1;33m\u001b[0m\u001b[1;33m\u001b[0m\u001b[0m\n\u001b[0m\u001b[0;32m    680\u001b[0m         \u001b[1;32mreturn\u001b[0m \u001b[0mself\u001b[0m\u001b[1;33m.\u001b[0m\u001b[0mdecodevalue\u001b[0m\u001b[1;33m(\u001b[0m\u001b[0mvalue\u001b[0m\u001b[1;33m)\u001b[0m\u001b[1;33m\u001b[0m\u001b[1;33m\u001b[0m\u001b[0m\n\u001b[0;32m    681\u001b[0m \u001b[1;33m\u001b[0m\u001b[0m\n",
      "\u001b[1;31mKeyError\u001b[0m: 'HOME'"
     ]
    }
   ],
   "source": [
    "client = BaiDuDrive(bduss=BDUSS, save=False)\n",
    "client"
   ]
  },
  {
   "cell_type": "code",
   "execution_count": null,
   "metadata": {},
   "outputs": [],
   "source": [
    "import os\n",
    "os.environ['HOMEPATH']"
   ]
  },
  {
   "cell_type": "code",
   "execution_count": null,
   "metadata": {},
   "outputs": [],
   "source": []
  }
 ],
 "metadata": {
  "interpreter": {
   "hash": "971de8236d001e156202e75ab73a66f12817a181b09f6a4f3f5c915b9ed55cc8"
  },
  "kernelspec": {
   "display_name": "Python 3.7.5 64-bit",
   "name": "python3"
  },
  "language_info": {
   "codemirror_mode": {
    "name": "ipython",
    "version": 3
   },
   "file_extension": ".py",
   "mimetype": "text/x-python",
   "name": "python",
   "nbconvert_exporter": "python",
   "pygments_lexer": "ipython3",
   "version": "3.7.5"
  },
  "orig_nbformat": 4
 },
 "nbformat": 4,
 "nbformat_minor": 2
}
